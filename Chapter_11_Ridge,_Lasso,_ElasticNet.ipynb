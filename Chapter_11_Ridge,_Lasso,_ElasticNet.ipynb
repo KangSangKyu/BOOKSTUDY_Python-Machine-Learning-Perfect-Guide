{
  "nbformat": 4,
  "nbformat_minor": 0,
  "metadata": {
    "colab": {
      "name": "Chapter 11. Ridge, Lasso, ElasticNet.ipynb",
      "private_outputs": true,
      "provenance": [],
      "authorship_tag": "ABX9TyM3Ze/ztbLEAMGGvbSEpy5y",
      "include_colab_link": true
    },
    "kernelspec": {
      "name": "python3",
      "display_name": "Python 3"
    }
  },
  "cells": [
    {
      "cell_type": "markdown",
      "metadata": {
        "id": "view-in-github",
        "colab_type": "text"
      },
      "source": [
        "<a href=\"https://colab.research.google.com/github/KangSangKyu/BOOKSTUDY_Python-Machine-Learning-Perfect-Guide/blob/main/Chapter_11_Ridge%2C_Lasso%2C_ElasticNet.ipynb\" target=\"_parent\"><img src=\"https://colab.research.google.com/assets/colab-badge.svg\" alt=\"Open In Colab\"/></a>"
      ]
    },
    {
      "cell_type": "markdown",
      "metadata": {
        "id": "pVwJzwFOeWZG"
      },
      "source": [
        "# Ridge"
      ]
    },
    {
      "cell_type": "code",
      "metadata": {
        "id": "FfK9a_aSCV4N"
      },
      "source": [
        "from sklearn.linear_model import Ridge\n",
        "from sklearn.model_selection import cross_val_score\n",
        "\n",
        "# alpha=10으로 설정해 릿지 회귀 수행.\n",
        "\n",
        "ridge = Ridge(alpha=10)\n",
        "neg_mse_scores = cross_val_score(ridge, X_data, y_target, scoring='neg_mean_squared_error', cv=5)\n",
        "rmse_scores = np.sqrt(-1 * neg_mse_scores)\n",
        "avg_rmse = np.mean(rmse_scores)\n",
        "\n",
        "print('5 folds 의 개별 Negative MSE scores:', np.round(neg_mse_scores, 3))\n",
        "print('5 folds 의 개별 RMSE scores:', np.round(rmse_scores, 3))\n",
        "print('5 folds 의 평균 RMSE: {0:.3f}'.format(avg_rmse))"
      ],
      "execution_count": null,
      "outputs": []
    },
    {
      "cell_type": "code",
      "metadata": {
        "id": "FicAH-k1Cnw8"
      },
      "source": [
        "# 릿지에 사용될 alpha 파라미터의 값을 정의 \n",
        "\n",
        "alphas = [0,0.1,1,10,100]\n",
        "\n",
        "# alphas list 값을 반복하면서 alpha에 따른 평균 rmse를 구함 \n",
        "\n",
        "for alpha in alphas:\n",
        "    ridge = Ridge(alpha=alpha)\n",
        "    \n",
        "    # cross_val_score를 이용해 5 폴드의 평균 RMSE를 계산 \n",
        "    neg_mse_scores = cross_val_score(ridge, X_data, y_target, scoring='neg_mean_squared_error', cv=5)\n",
        "    avg_rmse = np.mean(np.sqrt(-1 * neg_mse_scores))\n",
        "    print('alpha {0} 일 때 5 folds 의 평균 RMSE : {1:.3f}'.format(alpha, avg_rmse))"
      ],
      "execution_count": null,
      "outputs": []
    },
    {
      "cell_type": "code",
      "metadata": {
        "id": "fnYg5l3aC5Gr"
      },
      "source": [
        "import pandas as pd \n",
        "import matplotlib.pyplot as plt\n",
        "\n",
        "# 각 alpha에 따른 회귀 계수 값을 시각화하기 위해 5개의 열로 된 맷플롯립 축 생성 \n",
        "\n",
        "fig, axs = plt.subplots(figsize=(18,6), nrows=1, ncols=5)\n",
        "\n",
        "# 각 alpha에 따른 회귀 계수 값을 데이터로 저장하기 위한 데이터프레임 생성 \n",
        "\n",
        "coeff_df = pd.DataFrame()\n",
        "\n",
        "# alphas 리스트 값을 차례로 입력해 회귀 계수 값 시각화 및 데이터 저장. pos는 axis의 위치 지정 \n",
        "\n",
        "for pos, alpha in enumerate(alphas):\n",
        "    ridge = Ridge(alpha = alpha)\n",
        "    ridge.fit(X_data, y_target)\n",
        "    \n",
        "    # alpha에 따른 피처별로 회귀 계수를 Series로 변환하고 이를 데이터프레임의 칼럼으로 추가 \n",
        "    coeff = pd.Series(data=ridge.coef_, index=X_data.columns)\n",
        "    colname = 'alpha:' + str(alpha)\n",
        "    coeff_df[colname] = coeff\n",
        "    \n",
        "    # 막대 그래프로 각 alpha 값에서의 회귀 계수를 시각화. 회귀 계수값이 높은 순으로 표현 \n",
        "    coeff = coeff.sort_values(ascending=False)\n",
        "    axs[pos].set_title(colname)\n",
        "    axs[pos].set_xlim(-3,6)\n",
        "    sns.barplot(x=coeff.values, y=coeff.index, ax=axs[pos])\n",
        "    \n",
        "# for 문 바깥에서 맷플롯립의 show 호출 및 alpha에 따른 피처별 회귀 계수를 데이터프레임으로 표시 \n",
        "plt.show()"
      ],
      "execution_count": null,
      "outputs": []
    },
    {
      "cell_type": "code",
      "metadata": {
        "id": "-G4Yb9QNC5JQ"
      },
      "source": [
        "# 데이터프레임에 저장된 alpha 값의 변화에 따른 릿지 회귀 계수 값 구하기 \n",
        "\n",
        "ridge_alphas = [0,0.1,1,10,100]\n",
        "sort_column = 'alpha:' + str(ridge_alphas[0])\n",
        "coeff_df.sort_values(by=sort_column, ascending=False)"
      ],
      "execution_count": null,
      "outputs": []
    },
    {
      "cell_type": "markdown",
      "metadata": {
        "id": "nAAapH7YC8s9"
      },
      "source": [
        "# Lasso"
      ]
    },
    {
      "cell_type": "code",
      "metadata": {
        "id": "VpWo5E9OC5OP"
      },
      "source": [
        "from sklearn.linear_model import Ridge, Lasso, ElasticNet\n",
        "\n",
        "# alpha 값에 따른 회귀 모델의 폴드 평균 RMSE를 출력하고 회귀 계수값들을 데이터프레임으로 반환 \n",
        "\n",
        "def get_linear_reg_eval(model_name, params=None, X_data_n=None, y_target_n=None, verbose=True):\n",
        "    coeff_df = pd.DataFrame()\n",
        "    if verbose : print('#######', model_name, '#######')\n",
        "    for param in params:\n",
        "        if model_name == 'Ridge' : model = Ridge(alpha=param)\n",
        "        elif model_name == 'Lasso' : model = Lasso(alpha=param)\n",
        "        elif model_name == 'ElasticNet' : model = ElasticNet(alpha=param, l1_ratio=0.7)\n",
        "        neg_mse_scores = cross_val_score(model, X_data_n, y_target_n, scoring='neg_mean_squared_error', cv=5)\n",
        "        avg_rmse = np.mean(np.sqrt(-1 * neg_mse_scores))\n",
        "        print('alpha {0}일 때 5 폴드 세트의 평균 RMSE: {1:.3f}'.format(param, avg_rmse))\n",
        "        \n",
        "        # cross_val_score는 evaluation metric만 반환하므로 모델을 다시 학습하여 회귀 계수 추출 \n",
        "        model.fit(X_data, y_target)\n",
        "        \n",
        "        # alpha에 따른 피처별 회귀 계수를 Series로 변환하고 이를 데이터프레임의 칼럼으로 추가 \n",
        "        coeff = pd.Series(data=model.coef_, index=X_data.columns)\n",
        "        colname = 'alpha:' + str(param)\n",
        "        coeff_df[colname] = coeff\n",
        "        \n",
        "    return coeff_df\n",
        "\n",
        "# end of get_linear_regre_eval"
      ],
      "execution_count": null,
      "outputs": []
    },
    {
      "cell_type": "code",
      "metadata": {
        "id": "xPU-O07fC5Qx"
      },
      "source": [
        "# 라쏘에 사용될 alpha 파라미터의 값을 정의하고 get_linear_reg_eval() 함수 호출 \n",
        "\n",
        "lasso_alphas = [0.07, 0.1, 0.5, 1, 3]\n",
        "coeff_lasso_df = get_linear_reg_eval('Lasso', params=lasso_alphas, X_data_n=X_data, y_target_n=y_target)"
      ],
      "execution_count": null,
      "outputs": []
    },
    {
      "cell_type": "code",
      "metadata": {
        "id": "5jvKmiWzC5TI"
      },
      "source": [
        "# 반환된 coeff_lasso_df를 첫 번쨰 칼럼 순으로 내림차순 정렬해 회귀계수 데이터프레임 출력 \n",
        "\n",
        "sort_column = 'alpha:' + str(lasso_alphas[0])\n",
        "coeff_lasso_df.sort_values(by=sort_column, ascending=False)"
      ],
      "execution_count": null,
      "outputs": []
    },
    {
      "cell_type": "markdown",
      "metadata": {
        "id": "DsTw79GXDG7u"
      },
      "source": [
        "# ElasticNet"
      ]
    },
    {
      "cell_type": "code",
      "metadata": {
        "id": "q9Nb1pgqC5YE"
      },
      "source": [
        "# 엘라스티넷에 사용될 alpha 파라미터의 값들을 정의하고 get_linear_reg_eval() 함수 호출 \n",
        "# l1_ratio = 0.7 로 고정 \n",
        "\n",
        "elastic_alphas = [0.07, 0.1, 0.5, 1, 3]\n",
        "\n",
        "coeff_elastic_df = get_linear_reg_eval('ElasticNet', params=elastic_alphas, X_data_n=X_data, y_target_n=y_target)"
      ],
      "execution_count": null,
      "outputs": []
    },
    {
      "cell_type": "code",
      "metadata": {
        "id": "C1KN5vD4DMZT"
      },
      "source": [
        "# 반환된 coeff_elastic_df를 첫 번쨰 칼럼순으로 내림차순 정렬해 회귀계수 데이터프레임 출력 \n",
        "\n",
        "sort_column = 'alpha:' + str(elastic_alphas[0])\n",
        "coeff_elastic_df.sort_values(by=sort_column, ascending=False)"
      ],
      "execution_count": null,
      "outputs": []
    },
    {
      "cell_type": "markdown",
      "metadata": {
        "id": "FTruvU5_DSku"
      },
      "source": [
        "# 선형회귀를 위한 데이터 변환 "
      ]
    },
    {
      "cell_type": "code",
      "metadata": {
        "id": "OnZ2Vk40DMd_"
      },
      "source": [
        "# method는 표준 정규 분포 변환, 최대최소값 정규화, 로그변환 결정 \n",
        "# p_degree는 다항식 특성을 추가할 때 적용. p_degree는 2이상 부여하지 않음 \n",
        "\n",
        "from sklearn.preprocessing import StandardScaler, MinMaxScaler\n",
        "\n",
        "def get_scaled_data(method='None', p_degree=None, input_data=None):\n",
        "    if method == 'Standard' : scaled_data = StandardScaler().fit_transform(input_data)\n",
        "    elif method == 'MinMax' : scaled_data = MinMaxScaler().fit_transform(input_data)\n",
        "    elif method == 'Log' : scaled_data = np.log1p(input_data)\n",
        "    else : scaled_data = input_data\n",
        "        \n",
        "    if p_degree != None:\n",
        "        scaled_data = PolynomialFeatures(degree=p_degree, include_bias=False).fit_transform(scaled_data)\n",
        "        \n",
        "    return scaled_data"
      ],
      "execution_count": null,
      "outputs": []
    },
    {
      "cell_type": "code",
      "metadata": {
        "id": "hMLBi5THDMgL"
      },
      "source": [
        "# Ridge의 alpha값을 다르게 적용하고 다양한 데이터 변환 방법에 따른 RMSE 추출 \n",
        "\n",
        "alphas = [0.1, 1, 10, 100]\n",
        "\n",
        "# 5개 방식으로 변환. 먼저 원본 그대로, 표준정규 분포, 표준정규 분포 + 다항식 특성\n",
        "# 최소/최대 정규화, 최소/최대 정규화 + 다항식 특성, 로그변환 \n",
        "\n",
        "scale_methods = [(None, None), ('Standard', None), ('Standard', 2), ('MinMax', None), ('MinMax', 2), ('Log', None)]\n",
        "\n",
        "for scale_method in scale_methods:\n",
        "    X_data_scaled = get_scaled_data(method=scale_method[0], p_degree=scale_method[1], input_data=X_data)\n",
        "    \n",
        "    print('\\n## 변환 유형:{0}, Polynomial Degree:{1}'.format(scale_method[0], scale_method[1]))\n",
        "    get_linear_reg_eval('Ridge', params=alphas, X_data_n=X_data_scaled, y_target_n=y_target, verbose=False)"
      ],
      "execution_count": null,
      "outputs": []
    }
  ]
}