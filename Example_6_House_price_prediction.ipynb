{
  "nbformat": 4,
  "nbformat_minor": 0,
  "metadata": {
    "colab": {
      "name": "Example_6 House price prediction.ipynb",
      "private_outputs": true,
      "provenance": [],
      "authorship_tag": "ABX9TyPbuMdXZeo91xBG6qdTpT8n",
      "include_colab_link": true
    },
    "kernelspec": {
      "name": "python3",
      "display_name": "Python 3"
    }
  },
  "cells": [
    {
      "cell_type": "markdown",
      "metadata": {
        "id": "view-in-github",
        "colab_type": "text"
      },
      "source": [
        "<a href=\"https://colab.research.google.com/github/KangSangKyu/BOOKSTUDY_Python-Machine-Learning-Perfect-Guide/blob/main/Example_6_House_price_prediction.ipynb\" target=\"_parent\"><img src=\"https://colab.research.google.com/assets/colab-badge.svg\" alt=\"Open In Colab\"/></a>"
      ]
    },
    {
      "cell_type": "markdown",
      "metadata": {
        "id": "pVwJzwFOeWZG"
      },
      "source": [
        "# 캐글 주택 가격: 고급 회귀 기법"
      ]
    },
    {
      "cell_type": "code",
      "metadata": {
        "id": "tysEb83KTxD1"
      },
      "source": [
        "# 구글 드라이브 마운트\n",
        "from google.colab import drive\n",
        "drive.mount('/content/drive')"
      ],
      "execution_count": null,
      "outputs": []
    },
    {
      "cell_type": "code",
      "metadata": {
        "id": "CAiwnQ2MVQKG"
      },
      "source": [
        "import warnings\n",
        "warnings.filterwarnings('ignore')\n",
        "import pandas as pd \n",
        "import numpy as np\n",
        "import seaborn as sns\n",
        "import matplotlib.pyplot as plt \n",
        "%matplotlib inline\n",
        "\n",
        "house_df_org = pd.read_csv('house_price.csv')\n",
        "house_df = house_df_org.copy()\n",
        "house_df.head()"
      ],
      "execution_count": null,
      "outputs": []
    },
    {
      "cell_type": "code",
      "metadata": {
        "id": "5-Qluv7vWw_v"
      },
      "source": [
        "print(house_df.shape)\n",
        "house_df.info()"
      ],
      "execution_count": null,
      "outputs": []
    },
    {
      "cell_type": "code",
      "metadata": {
        "id": "KAKs-IyjXAZU"
      },
      "source": [
        "# 데이터 세트의 전체 크기와 칼럼의 타입, Null이 있는 칼럼과 그 건수를 내림차순으로 출력 \n",
        "\n",
        "print('데이터 세트의 Shape:', house_df.shape)\n",
        "print('\\n전체 피처의 type \\n', house_df.dtypes.value_counts())\n",
        "isnull_series = house_df.isnull().sum()\n",
        "print('\\nNull 칼럼과 그 건수:\\n', isnull_series[isnull_series > 0].sort_values(ascending=False))"
      ],
      "execution_count": null,
      "outputs": []
    },
    {
      "cell_type": "code",
      "metadata": {
        "id": "9kXWm__5XAcM"
      },
      "source": [
        "# Target 값의 분포 화인 \n",
        "\n",
        "plt.title('Original Sale Price Histogram')\n",
        "sns.distplot(house_df['SalePrice'])"
      ],
      "execution_count": null,
      "outputs": []
    },
    {
      "cell_type": "code",
      "metadata": {
        "id": "4yDc7GmuXAew"
      },
      "source": [
        "# Target 변수의 로그 변환 \n",
        "\n",
        "plt.title('Log Transformed Sale Price Histogram')\n",
        "log_SalePrice = np.log1p(house_df['SalePrice'])\n",
        "sns.distplot(log_SalePrice)"
      ],
      "execution_count": null,
      "outputs": []
    },
    {
      "cell_type": "code",
      "metadata": {
        "id": "-KVAPmFXXAhl"
      },
      "source": [
        "# SalePrice 로그 변환 \n",
        "original_SalePrice = house_df['SalePrice']\n",
        "house_df['SalePrice'] = np.log1p(house_df['SalePrice'])\n",
        "\n",
        "# Null이 너무 많은 칼럼과 불필요한 칼럼 삭제 \n",
        "house_df.drop(['Id', 'PoolQC', 'MiscFeature', 'Alley', 'Fence', 'FireplaceQu'], axis=1, inplace=True)\n",
        "\n",
        "# 드롭하지 않는 숫자형 Null 칼럼은 평균값으로 대체 \n",
        "house_df.fillna(house_df.mean(), inplace=True)\n",
        "\n",
        "# Null 값이 있는 피처명과 타입을 추출 \n",
        "null_column_count = house_df.isnull().sum()[house_df.isnull().sum() > 0]\n",
        "print('## Null 피처의 Type :\\n', house_df.dtypes[null_column_count.index])"
      ],
      "execution_count": null,
      "outputs": []
    },
    {
      "cell_type": "code",
      "metadata": {
        "id": "cYYWyIbQXAkA"
      },
      "source": [
        "# 문자형 피처 원-핫 인코딩 하기 \n",
        "\n",
        "print('get_dummies() 수행 전 데이터 Shape:', house_df.shape)\n",
        "house_df_ohe = pd.get_dummies(house_df)\n",
        "print('get_dummies() 수행 후 데이터 Shape:', house_df_ohe.shape)\n",
        "\n",
        "null_column_count = house_df_ohe.isnull().sum()[house_df_ohe.isnull().sum() > 0]\n",
        "print('## Null 피처의 Type :\\n', house_df_ohe.dtypes[null_column_count.index])"
      ],
      "execution_count": null,
      "outputs": []
    },
    {
      "cell_type": "code",
      "metadata": {
        "id": "c662Mzx8XAmx"
      },
      "source": [
        "# 여러 모델의 로그 변환된 RMSE를 계산하는 함수 \n",
        "\n",
        "def get_rmse(model):\n",
        "    pred = model.predict(X_test)\n",
        "    mse = mean_squared_error(y_test, pred)\n",
        "    rmse = np.sqrt(mse)\n",
        "    print(model.__class__.__name__, '로그 변환된 RMSE:', np.round(rmse, 3))\n",
        "    return rmse\n",
        "\n",
        "def get_rmses(models):\n",
        "    rmses = []\n",
        "    for model in models:\n",
        "        rmse = get_rmse(model)\n",
        "        rmses.append(rmse)\n",
        "    return rmses"
      ],
      "execution_count": null,
      "outputs": []
    },
    {
      "cell_type": "code",
      "metadata": {
        "id": "5HLJaF8AXApK"
      },
      "source": [
        "# 선형 회귀 모델 학습 / 예측 / 평가 \n",
        "\n",
        "from sklearn.linear_model import LinearRegression, Ridge, Lasso\n",
        "from sklearn.model_selection import train_test_split\n",
        "from sklearn.metrics import mean_squared_error\n",
        "\n",
        "y_target = house_df_ohe['SalePrice']\n",
        "X_features = house_df_ohe.drop('SalePrice', axis=1, inplace=False)\n",
        "\n",
        "X_train, X_test, y_train, y_test = train_test_split(X_features, y_target, test_size=0.2, random_state=156)\n",
        "\n",
        "# LinearRegression, Ridge, Lasso 학습, 예측, 평가 \n",
        "\n",
        "lr_reg = LinearRegression()\n",
        "lr_reg.fit(X_train, y_train)\n",
        "\n",
        "ridge_reg = Ridge()\n",
        "ridge_reg.fit(X_train, y_train)\n",
        "\n",
        "lasso_reg = Lasso()\n",
        "lasso_reg.fit(X_train, y_train)\n",
        "\n",
        "models = [lr_reg, ridge_reg, lasso_reg]\n",
        "get_rmses(models)"
      ],
      "execution_count": null,
      "outputs": []
    },
    {
      "cell_type": "code",
      "metadata": {
        "id": "MWrhHPugXAsA"
      },
      "source": [
        "def get_top_bottom_coef(model, n=10):\n",
        "    # coef_ 속성을 기반으로 Series 객체를 생성. index는 칼럼명 \n",
        "    coef = pd.Series(model.coef_, index=X_features.columns)\n",
        "    \n",
        "    # + 상위 10개, - 하위 10개의 회귀 계수를 추출해 반환 \n",
        "    coef_high = coef.sort_values(ascending=False).head(n)\n",
        "    coef_low = coef.sort_values(ascending=False).tail(n)\n",
        "    return coef_high, coef_low"
      ],
      "execution_count": null,
      "outputs": []
    },
    {
      "cell_type": "code",
      "metadata": {
        "id": "J5Mu_-mDXAuJ"
      },
      "source": [
        "def visualize_coefficient(models):\n",
        "    # 3개 회귀 모델의 시각화를 위해 3개의 칼럼을 가지는 subplot 생성 \n",
        "    fig, axs = plt.subplots(figsize=(25,10), nrows=1, ncols=3)\n",
        "    fig.tight_layout()\n",
        "    \n",
        "    # 입력 인자로 받은 list 객체인 models에서 차례로 model을 추출해 회귀 계수 시각화 \n",
        "    for i_num, model in enumerate(models):\n",
        "        # 상위 10개, 하위 10개 회귀 계수를 구하고, 이를 판다스 concat 으로 결합 \n",
        "        coef_high, coef_low = get_top_bottom_coef(model)\n",
        "        coef_concat = pd.concat([coef_high, coef_low])\n",
        "        \n",
        "        # ax subplot에 barchar로 표현. 한 화면에 표현하기 위해 tick label 위치와 font 조정 \n",
        "        axs[i_num].set_title(model.__class__.__name__ + ' Coeffiecents', size=25)\n",
        "        axs[i_num].tick_params(axis='y', direction='in', pad=-120)\n",
        "        \n",
        "        for label in (axs[i_num].get_xticklabels() + axs[i_num].get_yticklabels()):\n",
        "            label.set_fontsize(22)\n",
        "        sns.barplot(x=coef_concat.values, y=coef_concat.index, ax=axs[i_num])\n",
        "        \n",
        "# 앞 예제에서 학습한 lr_reg, ridge_reg, lasso_reg 모델의 회귀 계수 시각화 \n",
        "\n",
        "models = [lr_reg, ridge_reg, lasso_reg]\n",
        "visualize_coefficient(models)"
      ],
      "execution_count": null,
      "outputs": []
    },
    {
      "cell_type": "code",
      "metadata": {
        "id": "ofMEuCsHXAwU"
      },
      "source": [
        "from sklearn.model_selection import cross_val_score\n",
        "\n",
        "def get_avg_rmse_cv(models):\n",
        "    \n",
        "    for model in models:\n",
        "        # 분할하지 않고 전체 데이터로 cross_val_score() 수행. 모델별 CV RMSE 값과 평균 RMSE 출력 \n",
        "        rmse_list = np.sqrt(-cross_val_score(model, X_features, y_target, scoring='neg_mean_squared_error', cv=5))\n",
        "        rmse_avg = np.mean(rmse_list)\n",
        "        print('\\n{0} CV RMSE 값 리스트: {1}'.format(model.__class__.__name__, np.round(rmse_list, 3)))\n",
        "        print('{0} CV 평균 RMSE 값: {1}'.format(model.__class__.__name__, np.round(rmse_avg, 3)))\n",
        "        \n",
        "# 앞 예제에서 학습한 lr_reg, ridge_reg, lasso_reg 모델의 CV RMSE 값 출력\n",
        "\n",
        "models = [lr_reg, ridge_reg, lasso_reg]\n",
        "get_avg_rmse_cv(models)"
      ],
      "execution_count": null,
      "outputs": []
    },
    {
      "cell_type": "code",
      "metadata": {
        "id": "mhjb17rJXLH2"
      },
      "source": [
        "from sklearn.model_selection import GridSearchCV\n",
        "\n",
        "def print_best_params(model, params):\n",
        "    grid_model = GridSearchCV(model, param_grid=params, scoring='neg_mean_squared_error', cv=5)\n",
        "    grid_model.fit(X_features, y_target)\n",
        "    rmse = np.sqrt(-1 * grid_model.best_score_)\n",
        "    print('{0} 5 CV 시 최적 평균 RMSE 값:{1}, 최적 alpha:{2}'.format(model.__class__.__name__, np.round(rmse, 4), grid_model.best_params_))\n",
        "    \n",
        "ridge_params = {\n",
        "    'alpha' : [0.05, 0.1, 1, 5, 8, 10, 12 ,15, 20]\n",
        "}\n",
        "\n",
        "lasso_params = {\n",
        "    'alpha' : [0.001, 0.005, 0.008, 0.05, 0.03, 0.1, 0.5 ,1, 5, 10]\n",
        "}\n",
        "\n",
        "print_best_params(ridge_reg, ridge_params)\n",
        "print_best_params(lasso_reg, lasso_params)"
      ],
      "execution_count": null,
      "outputs": []
    },
    {
      "cell_type": "code",
      "metadata": {
        "id": "ZDZMvuVVXN5i"
      },
      "source": [
        "# 앞의 최적화 alpha 값으로 학습 데이터로 학습, 테스트 데이터로 예측 및 평가 수행 \n",
        "\n",
        "lr_reg = LinearRegression()\n",
        "lr_reg.fit(X_train, y_train)\n",
        "\n",
        "ridge_reg = Ridge(alpha=12)\n",
        "ridge_reg.fit(X_train, y_train)\n",
        "\n",
        "lasso_reg = Lasso(alpha=0.001)\n",
        "lasso_reg.fit(X_train, y_train)\n",
        "\n",
        "# 모든 모델의 RMSE 출력 \n",
        "\n",
        "models = [lr_reg, ridge_reg, lasso_reg]\n",
        "get_rmses(models)\n",
        "\n",
        "# 모든 회귀 계수 시각화 \n",
        "\n",
        "models = [lr_reg, ridge_reg, lasso_reg]\n",
        "visualize_coefficient(models)"
      ],
      "execution_count": null,
      "outputs": []
    },
    {
      "cell_type": "code",
      "metadata": {
        "id": "uboUF0g6XQG1"
      },
      "source": [
        "from scipy.stats import skew\n",
        "\n",
        "# object가 아닌 숫자형 피처의 칼럼 index 객체 추출 \n",
        "\n",
        "features_index = house_df.dtypes[house_df.dtypes != 'object'].index\n",
        "\n",
        "# house_df에 칼럼 index를 []로 입력하면 해당하는 칼럼 데이터 세트 반환. apply lambda로 skew() 호출 \n",
        "\n",
        "skew_features = house_df[features_index].apply(lambda x : skew(x))\n",
        "\n",
        "# skew(왜곡) 정도가 1 이상인 칼럼만 추출 \n",
        "\n",
        "skew_features_top = skew_features[skew_features > 1]\n",
        "print(skew_features_top.sort_values(ascending=False))"
      ],
      "execution_count": null,
      "outputs": []
    },
    {
      "cell_type": "code",
      "metadata": {
        "id": "eKj5I65mXRXs"
      },
      "source": [
        "# 추출된 왜곡 정도가 높은 피처를 로그 변환 \n",
        "\n",
        "house_df[skew_features_top.index] = np.log1p(house_df[skew_features_top.index])"
      ],
      "execution_count": null,
      "outputs": []
    },
    {
      "cell_type": "code",
      "metadata": {
        "id": "k_sI5DaMXRas"
      },
      "source": [
        "# 왜곡 정도가 높은 피처를 로그 변환했으므로 다시 원-핫 인코딩을 적용하고 피처 / 타깃 데이터 세트 생성 \n",
        "\n",
        "house_df_ohe = pd.get_dummies(house_df)\n",
        "\n",
        "y_target = house_df_ohe['SalePrice']\n",
        "X_features = house_df_ohe.drop('SalePrice', axis=1, inplace=False)\n",
        "\n",
        "# 피처를 로그 변환한 후 다시 최적 하이퍼 파라미터와 RMSE 출력 \n",
        "\n",
        "ridge_params = {\n",
        "    'alpha' : [0.05, 0.1, 1, 5, 8, 10, 12, 15, 20]\n",
        "}\n",
        "\n",
        "lasso_params = {\n",
        "    'alpha' : [0.001, 0.005, 0.008, 0.05, 0.03, 0.1, 0.5, 1, 5, 10]\n",
        "}\n",
        "\n",
        "print_best_params(ridge_reg, ridge_params)\n",
        "print_best_params(lasso_reg, lasso_params)"
      ],
      "execution_count": null,
      "outputs": []
    },
    {
      "cell_type": "code",
      "metadata": {
        "id": "QXYKwWcuXTiD"
      },
      "source": [
        "# SalePrice 와 GrLivArea 의 관계 시각화 \n",
        "\n",
        "plt.scatter(x=house_df_org['GrLivArea'], y=house_df_org['SalePrice'])\n",
        "plt.ylabel('SalePrice', fontsize=15)\n",
        "plt.xlabel('GrLivArea', fontsize=15)\n",
        "plt.show()"
      ],
      "execution_count": null,
      "outputs": []
    },
    {
      "cell_type": "code",
      "metadata": {
        "id": "zkH8Q3e1XTkm"
      },
      "source": [
        "# GrLivArea 와 SalePrice 모두 로그 변환됐으므로 이를 반영한 조건 생성 \n",
        "\n",
        "cond1 = house_df_ohe['GrLivArea'] > np.log1p(4000)\n",
        "cond2 = house_df_ohe['SalePrice'] < np.log1p(500000)\n",
        "outlier_index = house_df_ohe[cond1 & cond2].index\n",
        "\n",
        "print('이상치 레코드 index :', outlier_index.values)\n",
        "print('이상치 삭제 전 house_df_ohe shape:', house_df_ohe.shape)\n",
        "\n",
        "# 데이터프레임의 인덱스를 이용해 이상치 삭제 레코드 삭제\n",
        "\n",
        "house_df_ohe.drop(outlier_index, axis=0, inplace=True)\n",
        "print('이상치 삭제 후 house_df_ohe shape:', house_df_ohe.shape)"
      ],
      "execution_count": null,
      "outputs": []
    },
    {
      "cell_type": "code",
      "metadata": {
        "id": "JIehmUjxXTnM"
      },
      "source": [
        "y_target = house_df_ohe['SalePrice']\n",
        "X_features =house_df_ohe.drop('SalePrice', axis=1, inplace=False)\n",
        "\n",
        "X_train, X_test, y_train, y_test = train_test_split(X_features, y_target, test_size=0.2, random_state=156)\n",
        "\n",
        "ridge_params = {\n",
        "    'alpha' : [0.05, 0.1, 1, 5, 8, 10, 12, 15, 20]\n",
        "}\n",
        "\n",
        "lasso_params = {\n",
        "    'alpha' : [0.001, 0.005, 0.008, 0.05, 0.03, 0.1, 0.5, 1, 5, 10]\n",
        "}\n",
        "\n",
        "print_best_params(ridge_reg, ridge_params)\n",
        "print_best_params(lasso_reg, lasso_params)"
      ],
      "execution_count": null,
      "outputs": []
    }
  ]
}