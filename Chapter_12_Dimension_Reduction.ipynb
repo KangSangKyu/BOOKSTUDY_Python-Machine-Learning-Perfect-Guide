{
  "nbformat": 4,
  "nbformat_minor": 0,
  "metadata": {
    "colab": {
      "name": "Chapter  12. Dimension Reduction.ipynb",
      "private_outputs": true,
      "provenance": [],
      "authorship_tag": "ABX9TyPc3VeNmGFmWEfwS4Ah/8M4",
      "include_colab_link": true
    },
    "kernelspec": {
      "name": "python3",
      "display_name": "Python 3"
    }
  },
  "cells": [
    {
      "cell_type": "markdown",
      "metadata": {
        "id": "view-in-github",
        "colab_type": "text"
      },
      "source": [
        "<a href=\"https://colab.research.google.com/github/KangSangKyu/BOOKSTUDY_Python-Machine-Learning-Perfect-Guide/blob/main/Chapter_12_Dimension_Reduction.ipynb\" target=\"_parent\"><img src=\"https://colab.research.google.com/assets/colab-badge.svg\" alt=\"Open In Colab\"/></a>"
      ]
    },
    {
      "cell_type": "markdown",
      "metadata": {
        "id": "9NLuvrjwHcVp"
      },
      "source": [
        "# 차원 축소 (Dimension Reduction)"
      ]
    },
    {
      "cell_type": "code",
      "metadata": {
        "id": "aNMUZ7yrHeLR"
      },
      "source": [
        "from sklearn.datasets import load_iris\n",
        "import pandas as pd \n",
        "import matplotlib.pyplot as plt\n",
        "%matplotlib inline\n",
        "\n",
        "iris = load_iris()\n",
        "\n",
        "# 넘파이 데이터 세트를 판다스 데이터프레임으로 변환 \n",
        "\n",
        "columns = ['sepal_length', 'sepal_width', 'petal_length', 'petal_width']\n",
        "irisDF = pd.DataFrame(iris.data, columns=columns)\n",
        "irisDF['target'] = iris.target\n",
        "irisDF.head()"
      ],
      "execution_count": null,
      "outputs": []
    },
    {
      "cell_type": "code",
      "metadata": {
        "id": "8-aAQeSRHfSf"
      },
      "source": [
        "# setosa는 세모, versicolor는 네모, virginica는 동그라미로 표현 \n",
        "\n",
        "markers = ['^', 's', 'o']\n",
        "\n",
        "# setosa의 target값은 0, versicolor는 1, virginica는 2. 각 target 별로 다른 모양으로 산점도로 표시 \n",
        "\n",
        "for i, marker in enumerate(markers):\n",
        "    x_axis_data = irisDF[irisDF['target'] == i]['sepal_length']\n",
        "    y_axis_data = irisDF[irisDF['target'] == i]['sepal_width']\n",
        "    plt.scatter(x_axis_data, y_axis_data, marker=marker, label=iris.target_names[i])\n",
        "    \n",
        "plt.legend()\n",
        "plt.xlabel('sepal length')\n",
        "plt.ylabel('sepal width')\n",
        "plt.show()"
      ],
      "execution_count": null,
      "outputs": []
    },
    {
      "cell_type": "code",
      "metadata": {
        "id": "-uUOrJeJHfU5"
      },
      "source": [
        "# PCA 전 피처 정규화 \n",
        "\n",
        "from sklearn.preprocessing import StandardScaler\n",
        "\n",
        "iris_scaled = StandardScaler().fit_transform(irisDF)"
      ],
      "execution_count": null,
      "outputs": []
    },
    {
      "cell_type": "code",
      "metadata": {
        "id": "plpS_qF5HfXd"
      },
      "source": [
        "from sklearn.decomposition import PCA\n",
        "\n",
        "pca = PCA(n_components=2)\n",
        "\n",
        "# fit() 과 transform()을 호출해 PCA 변환 데이터 반환 \n",
        "\n",
        "pca.fit(iris_scaled)\n",
        "iris_pca = pca.transform(iris_scaled)\n",
        "print(iris_pca.shape)"
      ],
      "execution_count": null,
      "outputs": []
    },
    {
      "cell_type": "code",
      "metadata": {
        "id": "u47JuBCQHfZ5"
      },
      "source": [
        "# PCA 변환된 데이터의 컬럼명을 각각 pca_component_1, pca_component_2 로 명명 \n",
        "\n",
        "pca_columns = ['pca_component_1', 'pca_component_2']\n",
        "\n",
        "irisDF_pca = pd.DataFrame(iris_pca, columns=pca_columns)\n",
        "irisDF_pca['target'] = iris.target\n",
        "irisDF_pca.head()"
      ],
      "execution_count": null,
      "outputs": []
    },
    {
      "cell_type": "code",
      "metadata": {
        "id": "Ntml8-iFHfcQ"
      },
      "source": [
        "# setosa를 세모, versicolor를 네모, virginica를 동그라미로 표시 \n",
        "\n",
        "markers = ['^', 's', 'o']\n",
        "\n",
        "# pca_component_1을 x축, pca_component_2를 y축으로 산점도 수행 \n",
        "\n",
        "for i, marker in enumerate(markers):\n",
        "    x_axis_data = irisDF_pca[irisDF_pca['target'] == i]['pca_component_1']\n",
        "    y_axis_data = irisDF_pca[irisDF_pca['target'] == i]['pca_component_2']\n",
        "    plt.scatter(x_axis_data, y_axis_data, marker=marker, label=iris.target_names[i])\n",
        "    \n",
        "plt.legend()\n",
        "plt.xlabel('pca_component_1')\n",
        "plt.ylabel('pca_component_2')\n",
        "plt.show()"
      ],
      "execution_count": null,
      "outputs": []
    },
    {
      "cell_type": "code",
      "metadata": {
        "id": "SKZVEXIDHfej"
      },
      "source": [
        "# 전체 변동성에서 개별 PCA 컴포넌트별로 차지하는 변동성 비율 \n",
        "\n",
        "print(pca.explained_variance_ratio_)"
      ],
      "execution_count": null,
      "outputs": []
    },
    {
      "cell_type": "code",
      "metadata": {
        "id": "sC4pb2D_Hfg5"
      },
      "source": [
        "from sklearn.ensemble import RandomForestClassifier\n",
        "from sklearn.model_selection import cross_val_score\n",
        "\n",
        "rcf = RandomForestClassifier(random_state=156)\n",
        "scores = cross_val_score(rcf, iris.data, iris.target, scoring='accuracy', cv=3)\n",
        "print(scores)"
      ],
      "execution_count": null,
      "outputs": []
    },
    {
      "cell_type": "code",
      "metadata": {
        "id": "G7jLYFfwHfjb"
      },
      "source": [
        "pca_X = irisDF_pca[['pca_component_1', 'pca_component_2']]\n",
        "scores_pca = cross_val_score(rcf, pca_X, iris.target, scoring='accuracy', cv=3)\n",
        "print(scores)"
      ],
      "execution_count": null,
      "outputs": []
    },
    {
      "cell_type": "markdown",
      "metadata": {
        "id": "prUt8MXNHoco"
      },
      "source": [
        "# 신용카드 고객 데이터 PCA 적용 하기 "
      ]
    },
    {
      "cell_type": "code",
      "metadata": {
        "id": "-J19wLJeHflj"
      },
      "source": [
        "import pandas as pd\n",
        "\n",
        "df = pd.read_excel('credit_card.xls', sheet_name='Data', header=1)\n",
        "print(df.shape)\n",
        "df.head()"
      ],
      "execution_count": null,
      "outputs": []
    },
    {
      "cell_type": "code",
      "metadata": {
        "id": "BUtSwqh0HrtV"
      },
      "source": [
        "df.rename(columns={'PAY_0' : 'PAY_1', 'default payment next month' : 'default'}, inplace=True)\n",
        "df.drop('ID', axis=1, inplace=True)\n",
        "\n",
        "y_target = df['default']\n",
        "X_features = df.drop('default', axis=1)"
      ],
      "execution_count": null,
      "outputs": []
    },
    {
      "cell_type": "code",
      "metadata": {
        "id": "u3UUoe14HrwA"
      },
      "source": [
        "import seaborn as sns\n",
        "import matplotlib.pyplot as plt\n",
        "%matplotlib inline\n",
        "\n",
        "corr = X_features.corr()\n",
        "plt.figure(figsize=(14,14))\n",
        "sns.heatmap(corr, annot=True, fmt='.1g')"
      ],
      "execution_count": null,
      "outputs": []
    },
    {
      "cell_type": "code",
      "metadata": {
        "id": "3MYspNSuHryX"
      },
      "source": [
        "from sklearn.decomposition import PCA\n",
        "from sklearn.preprocessing import StandardScaler\n",
        "\n",
        "# BULL_AMT1 ~ BILL_AMT6 까지 6개 속성명 생성 \n",
        "\n",
        "cols_bill = ['BILL_AMT' + str(i) for i in range(1, 7)]\n",
        "print('대상 속성명:', cols_bill)\n",
        "\n",
        "# 2개의 PCA 속성을 가진 PCA 객체를 생성하고, explained_variance_ratio_ 계산을 위해 fit() 호출 \n",
        "\n",
        "scaler = StandardScaler()\n",
        "df_cols_scaled = scaler.fit_transform(X_features[cols_bill])\n",
        "pca = PCA(n_components=2)\n",
        "pca.fit(df_cols_scaled)\n",
        "print('PCA Component별 변동성:', pca.explained_variance_ratio_)"
      ],
      "execution_count": null,
      "outputs": []
    },
    {
      "cell_type": "code",
      "metadata": {
        "id": "8JQGCL6KHr0k"
      },
      "source": [
        "# 원본 데이터 세트에 랜덤 포레스트를 이용해 타깃 값이 디폴트 값을 3개의 교차 검증 세트로 분류 예측\n",
        "\n",
        "import numpy as np\n",
        "from sklearn.ensemble import RandomForestClassifier\n",
        "from sklearn.model_selection import cross_val_score\n",
        "\n",
        "rcf = RandomForestClassifier(n_estimators=300, random_state=156)\n",
        "scores = cross_val_score(rcf, X_features, y_target, scoring='accuracy', cv=3)\n",
        "\n",
        "print('CV=3 인 경우의 개별 Fold 세트별 정확도:', scores)\n",
        "print('평균 정확도:{0:.4f}'.format(np.mean(scores)))"
      ],
      "execution_count": null,
      "outputs": []
    },
    {
      "cell_type": "code",
      "metadata": {
        "id": "IfYC5kwFHr3E"
      },
      "source": [
        "# 6개의 컴포넌트로 PCA 변환한 데이터 세트에 대해서 동일하게 분류 예측 적용 \n",
        "\n",
        "from sklearn.decomposition import PCA\n",
        "from sklearn.preprocessing import StandardScaler\n",
        "\n",
        "# 원본 데이터 세트에 먼저 StandardScaler 적용 \n",
        "\n",
        "scaler = StandardScaler()\n",
        "df_scaled = scaler.fit_transform(X_features)\n",
        "\n",
        "# 6개의 컴포넌트를 가진 PCA 변환을 수행하고 cross_val_score() 로 분류 예측 수행 \n",
        "\n",
        "pca = PCA(n_components=6)\n",
        "df_pca = pca.fit_transform(df_scaled)\n",
        "scores_pca = cross_val_score(rcf, df_pca, y_target, scoring='accuracy', cv=3)\n",
        "\n",
        "print('CV=3 인 경우의 PCA 변환된 개별 Fold 세트별 정확도:', scores_pca)\n",
        "print('PCA 변환 데이터 세트 평균 정확도:{0:.4f}'.format(np.mean(scores_pca)))"
      ],
      "execution_count": null,
      "outputs": []
    }
  ]
}