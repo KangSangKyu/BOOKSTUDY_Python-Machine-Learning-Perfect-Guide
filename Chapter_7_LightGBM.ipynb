{
  "nbformat": 4,
  "nbformat_minor": 0,
  "metadata": {
    "colab": {
      "name": "Chapter_7_LightGBM.ipynb",
      "provenance": [],
      "private_outputs": true,
      "collapsed_sections": [],
      "authorship_tag": "ABX9TyP70r+5EA7hn9t4xhdB1hsq",
      "include_colab_link": true
    },
    "kernelspec": {
      "name": "python3",
      "display_name": "Python 3"
    }
  },
  "cells": [
    {
      "cell_type": "markdown",
      "metadata": {
        "id": "view-in-github",
        "colab_type": "text"
      },
      "source": [
        "<a href=\"https://colab.research.google.com/github/KangSangKyu/BOOKSTUDY_Python-Machine-Learning-Perfect-Guide/blob/main/Chapter_7_LightGBM.ipynb\" target=\"_parent\"><img src=\"https://colab.research.google.com/assets/colab-badge.svg\" alt=\"Open In Colab\"/></a>"
      ]
    },
    {
      "cell_type": "markdown",
      "metadata": {
        "id": "QdvD6DLUZQhh"
      },
      "source": [
        "# Chapter 7. LightGBM\n"
      ]
    },
    {
      "cell_type": "code",
      "metadata": {
        "id": "QbHr567D_rEJ"
      },
      "source": [
        "# LightGBM을 이용한 위스콘신 유방암 예측 \n",
        "\n",
        "from lightgbm import LGBMClassifier\n",
        "import pandas as pd\n",
        "import numpy as np\n",
        "from sklearn.datasets import load_breast_cancer\n",
        "from sklearn.model_selection import train_test_split\n",
        "\n",
        "dataset = load_breast_cancer()\n",
        "ftr = dataset.data\n",
        "target = dataset.target\n",
        "\n",
        "# 전체 데이터 중 80%는 학습용 데이터, 20%는 테스트용 데이터 추출 \n",
        "\n",
        "X_train, X_test, y_train, y_test = train_test_split(ftr, target, test_size=0.2, random_state=156)\n",
        "\n",
        "# 앞서 XGBoost와 동일하게 n_estimators는 400 설정 \n",
        "\n",
        "lgbm_wrapper = LGBMClassifier(n_estimators=400)\n",
        "\n",
        "# LightGBM도 XGBoost와 동일하게 조기 중단 수행 가능 \n",
        "\n",
        "evals = [(X_test, y_test)]\n",
        "lgbm_wrapper.fit(X_train, y_train, early_stopping_rounds=100, eval_metric='logloss', eval_set=evals, verbose=True)\n",
        "preds = lgbm_wrapper.predict(X_test)"
      ],
      "execution_count": null,
      "outputs": []
    },
    {
      "cell_type": "code",
      "metadata": {
        "id": "cFy2VcQI_rGx"
      },
      "source": [
        "# plot_importance()를 이용해 피처 중요도 시각화 \n",
        "\n",
        "from lightgbm import plot_importance\n",
        "import matplotlib.pyplot as plt \n",
        "%matplotlib inline\n",
        "\n",
        "fig, ax = plt.subplots(figsize=(10,12))\n",
        "plot_importance(lgbm_wrapper, ax=ax)"
      ],
      "execution_count": null,
      "outputs": []
    },
    {
      "cell_type": "markdown",
      "metadata": {
        "id": "h4LI38llA3S1"
      },
      "source": [
        "# XGBoost ex"
      ]
    },
    {
      "cell_type": "code",
      "metadata": {
        "id": "s6YT0JMpA-K7"
      },
      "source": [
        "import numpy as np\n",
        "import pandas as pd\n",
        "import matplotlib.pyplot as plt\n",
        "import matplotlib\n",
        "\n",
        "cust_df = pd.read_csv('./train_santander.csv', encoding='latin-1')\n",
        "print('dataset shape:', cust_df.shape)\n",
        "cust_df.head()"
      ],
      "execution_count": null,
      "outputs": []
    },
    {
      "cell_type": "code",
      "metadata": {
        "id": "npJoG3-pBV_1"
      },
      "source": [
        "cust_df.info()"
      ],
      "execution_count": null,
      "outputs": []
    },
    {
      "cell_type": "code",
      "metadata": {
        "id": "jOiUOOfNBWCX"
      },
      "source": [
        "print(cust_df['TARGET'].value_counts())\n",
        "\n",
        "unsatisfied_cnt = cust_df[cust_df['TARGET'] == 1].TARGET.count()\n",
        "total_cnt = cust_df.TARGET.count()\n",
        "\n",
        "print('unsatisfied 비율은 {0:.2f}'.format((unsatisfied_cnt / total_cnt)))"
      ],
      "execution_count": null,
      "outputs": []
    },
    {
      "cell_type": "code",
      "metadata": {
        "id": "B6pUTvumBWFH"
      },
      "source": [
        "cust_df.describe()"
      ],
      "execution_count": null,
      "outputs": []
    },
    {
      "cell_type": "code",
      "metadata": {
        "id": "ec1uixHhBWHx"
      },
      "source": [
        "cust_df.var3.value_counts()"
      ],
      "execution_count": null,
      "outputs": []
    },
    {
      "cell_type": "code",
      "metadata": {
        "id": "2zOEUtYcBWKW"
      },
      "source": [
        "cust_df['var3'].replace(-999999, 2, inplace=True)\n",
        "cust_df.drop('ID', axis=1, inplace=True)\n",
        "\n",
        "# 피처 세트와 레이블 세트 분리. 레이블 칼럼은 데이터프레임의 맨 마지막에 위치해 칼럼 위치 -1로 분리 \n",
        "\n",
        "X_features = cust_df.iloc[:,:-1]\n",
        "y_labels = cust_df.iloc[:,-1]\n",
        "\n",
        "print('피처 데이터 shape:{0}'.format(X_features.shape))"
      ],
      "execution_count": null,
      "outputs": []
    },
    {
      "cell_type": "code",
      "metadata": {
        "id": "db-s-HYyBWMz"
      },
      "source": [
        "# 학습 세트와 테스트 세트의 레이블 값 분포 비율 \n",
        "\n",
        "from sklearn.model_selection import train_test_split\n",
        "\n",
        "X_train, X_test, y_train, y_test = train_test_split(X_features, y_labels, test_size=0.2, random_state=0)\n",
        "\n",
        "train_cnt = y_train.count()\n",
        "test_cnt = y_test.count()\n",
        "print('학습 세트 Shape:{0}, 테스트 세트 Shape:{1}'.format(X_train.shape, X_test.shape))\n",
        "\n",
        "print('\\n학습 세트 레이블 값 분포 비율')\n",
        "print(y_train.value_counts() / train_cnt)\n",
        "print('\\n 테스트 세트 레이블 값 분포 비율')\n",
        "print(y_test.value_counts() / test_cnt)"
      ],
      "execution_count": null,
      "outputs": []
    },
    {
      "cell_type": "code",
      "metadata": {
        "id": "iA0w2PP-BWPW"
      },
      "source": [
        "# XGBoost 모델 학습과 하이퍼 파라미터 튜닝 \n",
        "\n",
        "from xgboost import XGBClassifier\n",
        "from sklearn.metrics import roc_auc_score\n",
        "\n",
        "# n_estimators는 500, random_state는 예제 수행 시마다 동일 예측 결과를 위해 설정 \n",
        "\n",
        "xgb_clf = XGBClassifier(n_estimators=500, random_state=156)\n",
        "\n",
        "# 성능 평가 지표를 auc로, 조기 중단 파라미터는 100으로 설정하고 학습 수행 \n",
        "\n",
        "evals = [(X_train, y_train), (X_test, y_test)]\n",
        "xgb_clf.fit(X_train, y_train, early_stopping_rounds=100, eval_metric='auc', eval_set=evals)\n",
        "\n",
        "xgb_roc_score = roc_auc_score(y_test, xgb_clf.predict_proba(X_test)[:,1], average='macro')\n",
        "print('ROC AUC: {0:.4f}'.format(xgb_roc_score))"
      ],
      "execution_count": null,
      "outputs": []
    },
    {
      "cell_type": "code",
      "metadata": {
        "id": "LuECa3Y4Bd5I"
      },
      "source": [
        "from sklearn.model_selection import GridSearchCV\n",
        "import time\n",
        "\n",
        "# 하이퍼 파라미터 테스트의 수행 속도를 향상시키기 위해 n_estimators를 100으로 감소 \n",
        "\n",
        "xgb_clf = XGBClassifier(n_estimators=100)\n",
        "\n",
        "params = {\n",
        "    'max_depth' : [5,7],\n",
        "    'min_child_weight' : [1,3],\n",
        "    'colsample_bytree' : [0.5,0.75]\n",
        "}\n",
        "\n",
        "evals = [(X_train, y_train), (X_test, y_test)]\n",
        "\n",
        "# 하이퍼 파라미터 테스트의 수행속도를 향상시키기 위해 cv를 지정하지 않음 \n",
        "\n",
        "start_time = time.time()\n",
        "gridcv = GridSearchCV(xgb_clf, param_grid=params)\n",
        "gridcv.fit(X_train, y_train, early_stopping_rounds=30, eval_metric='auc', eval_set=evals)\n",
        "\n",
        "print('GridSearchCV 최적 파라미터:', gridcv.best_params_)\n",
        "\n",
        "xgb_roc_score = roc_auc_score(y_test, gridcv.predict_proba(X_test)[:,1], average='macro')\n",
        "print('ROC AUC: {0:.4f}'.format(xgb_roc_score))\n",
        "print('수행 시간: {0:.1f} 초'.format(time.time() - start_time))"
      ],
      "execution_count": null,
      "outputs": []
    },
    {
      "cell_type": "code",
      "metadata": {
        "id": "ie43ztZBBd77"
      },
      "source": [
        "# n_estimator는 1000으로 증가시키고, learning_rate=0.02로 감소, reg_alpha=0.03으로 추가함 \n",
        "\n",
        "xgb_clf = XGBClassifier(n_estimators=1000, random_state=156, learning_rate=0.02, max_depth=7, min_child_weight=1,\n",
        "                       colsample_bytree=0.75, reg_alpha=0.03)\n",
        "\n",
        "# 성능 평가 지표를 auc로, 조기 중단 파라미터 값은 200 으로 설정하고 학습 수행 \n",
        "\n",
        "start_time = time.time()\n",
        "xgb_clf.fit(X_train, y_train, early_stopping_rounds=200, eval_metric='auc', eval_set=evals)\n",
        "\n",
        "xgb_roc_score = roc_auc_score(y_test, xgb_clf.predict_proba(X_test)[:,1], average='macro')\n",
        "print('ROC AUC: {0:.4f}'.format(xgb_roc_score))\n",
        "print('수행 시간: {0:.1f} 초'.format(time.time() - start_time))"
      ],
      "execution_count": null,
      "outputs": []
    },
    {
      "cell_type": "code",
      "metadata": {
        "id": "NZS7tPCXBd-Q"
      },
      "source": [
        "from xgboost import plot_importance\n",
        "import matplotlib.pyplot as plt\n",
        "%matplotlib inline\n",
        "\n",
        "fig, ax = plt.subplots(1,1, figsize=(10,8))\n",
        "plot_importance(xgb_clf, ax=ax, max_num_features=20, height=0.4)"
      ],
      "execution_count": null,
      "outputs": []
    },
    {
      "cell_type": "code",
      "metadata": {
        "id": "_COXKv9VBjqu"
      },
      "source": [
        "from lightgbm import LGBMClassifier\n",
        "\n",
        "lgbm_clf = LGBMClassifier(n_estimators=500)\n",
        "\n",
        "start_time = time.time()\n",
        "evals = [(X_test, y_test)]\n",
        "lgbm_clf.fit(X_train, y_train, early_stopping_rounds=100, eval_metric='auc', eval_set=evals, verbose=True)\n",
        "\n",
        "lgbm_roc_score = roc_auc_score(y_test, lgbm_clf.predict_proba(X_test)[:,1], average='macro')\n",
        "print('ROC AUC: {0:.4f}'.format(lgbm_roc_score))\n",
        "print('수행 시간: {0:.1f} 초'.format(time.time() - start_time))"
      ],
      "execution_count": null,
      "outputs": []
    },
    {
      "cell_type": "markdown",
      "metadata": {
        "id": "CESk8l4XBrmZ"
      },
      "source": [
        "# LightGBM ex"
      ]
    },
    {
      "cell_type": "code",
      "metadata": {
        "id": "QZ3HZJprBtAQ"
      },
      "source": [
        "from lightgbm import LGBMClassifier\n",
        "\n",
        "lgbm_clf = LGBMClassifier(n_estimators=500)\n",
        "\n",
        "start_time = time.time()\n",
        "evals = [(X_test, y_test)]\n",
        "lgbm_clf.fit(X_train, y_train, early_stopping_rounds=100, eval_metric='auc', eval_set=evals, verbose=True)\n",
        "\n",
        "lgbm_roc_score = roc_auc_score(y_test, lgbm_clf.predict_proba(X_test)[:,1], average='macro')\n",
        "print('ROC AUC: {0:.4f}'.format(lgbm_roc_score))\n",
        "print('수행 시간: {0:.1f} 초'.format(time.time() - start_time))"
      ],
      "execution_count": null,
      "outputs": []
    },
    {
      "cell_type": "code",
      "metadata": {
        "id": "KNLsB-ykBxRp"
      },
      "source": [
        "from sklearn.model_selection import GridSearchCV\n",
        "\n",
        "# 하이퍼 파라미터 테스트의 수행 속도를 향상시키기 위해 n_estimators를 200으로 감소 \n",
        "\n",
        "lgbm_clf = LGBMClassifier(n_estimators=200)\n",
        "\n",
        "params = {\n",
        "    'num_leaves' : [32,64],\n",
        "    'max_depth' : [128,160],\n",
        "    'min_child_samples' : [60,100],\n",
        "    'subsample' : [0.8,1]\n",
        "}\n",
        "\n",
        "evals = [(X_train, y_train), (X_test, y_test)]\n",
        "\n",
        "# 하이퍼 파라미터 테스트의 수행속도를 위해 cv를 지정하지 않습니다.\n",
        "\n",
        "start_time = time.time()\n",
        "gridcv = GridSearchCV(lgbm_clf, param_grid=params)\n",
        "gridcv.fit(X_train, y_train, early_stopping_rounds=30, eval_metric='auc', eval_set=evals)\n",
        "\n",
        "print('GridSearchCV 최적 파라미터:', gridcv.best_params_)\n",
        "lgbm_roc_score = roc_auc_score(y_test, gridcv.predict_proba(X_test)[:,1], average='macro')\n",
        "print('ROC AUC: {0:.4f}'.format(lgbm_roc_score))\n",
        "print('수행 시간: {0:.1f} 초'.format(time.time() - start_time))"
      ],
      "execution_count": null,
      "outputs": []
    },
    {
      "cell_type": "code",
      "metadata": {
        "id": "wU-NirpOBxUW"
      },
      "source": [
        "lgbm_clf = LGBMClassifier(n_estimators=1000, num_leaves=32, subsample=0.8, min_child_samples=100, max_depth=128)\n",
        "\n",
        "evals = [(X_test, y_test)]\n",
        "lgbm_clf.fit(X_train, y_train, early_stopping_rounds=100, eval_metric='auc', eval_set=evals, verbose='True')\n",
        "\n",
        "lgbm_roc_score = roc_auc_score(y_test, lgbm_clf.predict_proba(X_test)[:,1], average='macro')\n",
        "print('ROC AUC: {0:.4f}'.format(lgbm_roc_score))"
      ],
      "execution_count": null,
      "outputs": []
    }
  ]
}